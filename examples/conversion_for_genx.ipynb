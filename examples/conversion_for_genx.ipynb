{
 "cells": [
  {
   "cell_type": "markdown",
   "id": "5a187616",
   "metadata": {},
   "source": [
    "# Conversion of dat files for genx input"
   ]
  },
  {
   "cell_type": "markdown",
   "id": "975c8aba",
   "metadata": {},
   "source": [
    "Import data from SIRIUS beamline after treatment of the XRR (normalization, background substraction, etc ...).  \n",
    "Convert of .dat files for genx with 3 columns: qz(A-1), XRR, error. "
   ]
  },
  {
   "cell_type": "markdown",
   "id": "6318bb9d",
   "metadata": {},
   "source": [
    "## Water"
   ]
  },
  {
   "cell_type": "code",
   "execution_count": 7,
   "id": "37d0dcab",
   "metadata": {},
   "outputs": [],
   "source": [
    "import numpy as np\n",
    "raw_data = np.genfromtxt('water/SIRIUS_2021_09_29_1343_XRR.dat', names = True)\n",
    "qz_angstrom = raw_data['qznm1']*0.1\n",
    "R = raw_data['R']\n",
    "err_R = raw_data['err_R']\n",
    "\n",
    "np.savetxt('water/water.dat', np.transpose([qz_angstrom, R, err_R]), header='#qz(A-1) #R #err_R', comments='')"
   ]
  },
  {
   "cell_type": "markdown",
   "id": "c2623a6d",
   "metadata": {},
   "source": [
    "## Behenic acid, 30 mN/m"
   ]
  },
  {
   "cell_type": "code",
   "execution_count": 9,
   "id": "2f2f8ff1",
   "metadata": {},
   "outputs": [],
   "source": [
    "import numpy as np\n",
    "raw_data = np.genfromtxt('behenic_acid/SIRIUS_2021_09_29_1448_XRR.dat', names = True)\n",
    "qz_angstrom = raw_data['qznm1']*0.1\n",
    "R = raw_data['R']\n",
    "err_R = raw_data['err_R']\n",
    "\n",
    "np.savetxt('behenic_acid/behenic_acid.dat', np.transpose([qz_angstrom, R, err_R]), header='#qz(A-1) #R #err_R', comments='')"
   ]
  },
  {
   "cell_type": "markdown",
   "id": "0591127d",
   "metadata": {},
   "source": [
    "Formula to link mean area per molecule, density, and height:\n",
    "$$\\rm{dens}=1/(A*d)$$"
   ]
  },
  {
   "cell_type": "code",
   "execution_count": null,
   "id": "b438b4f9",
   "metadata": {},
   "outputs": [],
   "source": []
  },
  {
   "cell_type": "code",
   "execution_count": null,
   "id": "e229b055",
   "metadata": {},
   "outputs": [],
   "source": []
  }
 ],
 "metadata": {
  "kernelspec": {
   "display_name": "Python 3",
   "language": "python",
   "name": "python3"
  },
  "language_info": {
   "codemirror_mode": {
    "name": "ipython",
    "version": 3
   },
   "file_extension": ".py",
   "mimetype": "text/x-python",
   "name": "python",
   "nbconvert_exporter": "python",
   "pygments_lexer": "ipython3",
   "version": "3.8.11"
  },
  "toc": {
   "base_numbering": 1,
   "nav_menu": {},
   "number_sections": true,
   "sideBar": true,
   "skip_h1_title": false,
   "title_cell": "JupyLabBook @ SIRIUS",
   "title_sidebar": "Contents",
   "toc_cell": false,
   "toc_position": {},
   "toc_section_display": true,
   "toc_window_display": true
  }
 },
 "nbformat": 4,
 "nbformat_minor": 5
}
