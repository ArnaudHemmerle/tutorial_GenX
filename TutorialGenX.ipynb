{
 "cells": [
  {
   "cell_type": "markdown",
   "metadata": {},
   "source": [
    "# Tutorial for XRR with GenX"
   ]
  },
  {
   "cell_type": "code",
   "execution_count": 1,
   "metadata": {},
   "outputs": [],
   "source": [
    "import numpy as np\n",
    "pi = np.pi\n",
    "from pylab import genfromtxt\n",
    "import matplotlib.pyplot as plt\n",
    "from scipy import optimize\n",
    "%matplotlib inline"
   ]
  },
  {
   "cell_type": "markdown",
   "metadata": {},
   "source": [
    "## 0. Read me"
   ]
  },
  {
   "cell_type": "markdown",
   "metadata": {},
   "source": [
    "Tutorial made for GenX 2.4.10.  \n",
    "This tutorial is made in complement to the one available online http://genx.sourceforge.net/doc/tutorials/xrr_fitting.html   \n",
    "GenX has also an in-built help available in the \"About\" menu.  "
   ]
  },
  {
   "cell_type": "markdown",
   "metadata": {},
   "source": [
    "## 1. Define the sample"
   ]
  },
  {
   "cell_type": "markdown",
   "metadata": {},
   "source": [
    "Go to the \"Sample\" menu. There are already two semi-infinite media: \"Amb\" for ambient and \"Sub\" for substrate. For those two layers the thickness d does not matter.  \n",
    "\n",
    "GenX asks for 5 parameters per layer that we will describe individually."
   ]
  },
  {
   "cell_type": "markdown",
   "metadata": {},
   "source": [
    "### dens\n",
    "The density of formula units, in units per $Å^3$ (i.e. scatterer per unit volume).\n",
    "    $$dens = \\frac{\\rho[u/Å^3]}{u_{\\rm scatt}}, $$ \n",
    "    with $\\rho[u/Å^3]$ in atomic mass per $Å^3$ ($1u = 1.66054×10^{−27}$ kg),  \n",
    "    and $u_{\\rm scatt} = \\sum_i u_i x_i$ the linear combination of the individual mass of each element.\n",
    "\n",
    "A useful formula is then:\n",
    "    $$dens = \\frac{\\rho[kg/m3]}{1.66054×10^3×u_{\\rm scatt}}.$$\n",
    "    "
   ]
  },
  {
   "cell_type": "markdown",
   "metadata": {},
   "source": [
    "#### Case 1\n",
    "If one has the chemical formula and the density $\\rho$ in $g/cm^3$ one can directly use the formula above.  \n",
    "\n",
    "Examples:  \n",
    "- H2O, $\\rho=$ 1 g/cm3 = 1000 kg/m^3.  \n",
    "    $u_{\\rm scatt} = 2*1.008 + 1*15.999 = 18.015 u$  \n",
    "    $dens = 1000/(1.66054*10^3*18.015) = 0.03343$\n",
    "\n",
    "    "
   ]
  },
  {
   "cell_type": "code",
   "execution_count": 2,
   "metadata": {},
   "outputs": [
    {
     "name": "stdout",
     "output_type": "stream",
     "text": [
      "dens =  0.0334284617096744\n"
     ]
    }
   ],
   "source": [
    "rho_kgm3 = 1000\n",
    "u_scatt = 2*1.008 + 1*15.999\n",
    "dens = rho_kgm3/(1.66054*1e3*u_scatt)\n",
    "print('dens = ', dens)"
   ]
  },
  {
   "cell_type": "markdown",
   "metadata": {},
   "source": [
    "- SrTiO3, $\\rho=$ 5.12 g/cm3.  \n",
    "    $u_{\\rm scatt} = 1*87.62 + 1*47.87 +3*16 = 183.49 u$  \n",
    "    $dens = 5.12*10^3/(1.66054*10^3*183.49) = 0.0168$"
   ]
  },
  {
   "cell_type": "code",
   "execution_count": 3,
   "metadata": {},
   "outputs": [
    {
     "name": "stdout",
     "output_type": "stream",
     "text": [
      "dens =  0.016803827658307787\n"
     ]
    }
   ],
   "source": [
    "rho_kgm3 = 5.12*1e3\n",
    "u_scatt = 1*87.62 + 1*47.87 + 3*16\n",
    "dens = rho_kgm3/(1.66054*1e3*u_scatt)\n",
    "print('dens = ', dens)"
   ]
  },
  {
   "cell_type": "markdown",
   "metadata": {},
   "source": [
    "#### Case 2\n",
    "If one has the unit cell of a crystal structure, the genx density is simply:\n",
    "$$ dens = n/a^3,$$  \n",
    "with $n$ the number of molecules per unit cell and $a$ the cell size in $Å$."
   ]
  },
  {
   "cell_type": "markdown",
   "metadata": {},
   "source": [
    "Examples:  \n",
    "- SrTiO3, cubic with a lattice constant a = 3.9045 $Å$.  \n",
    "dens = 1/3.9045^3 = 0.0168"
   ]
  },
  {
   "cell_type": "markdown",
   "metadata": {},
   "source": [
    "- Fe, bcc with a lattice constant a = 2.866 $Å$.  \n",
    "dens = 2/2.866^3 = 0.085"
   ]
  },
  {
   "cell_type": "markdown",
   "metadata": {},
   "source": [
    "#### Case 3\n",
    "If one has the electron density $\\rho_{el}$ in $e^-/Å^3$ and the number of electrons $n_{el}$:\n",
    "$$ dens = \\rho_{el}/n_{el}.$$  \n",
    "Example:  \n",
    "- a DSPC lipid head C10H18O8NP with a known $\\rho_{el}=0.4$ $e^{-}/Å^3$:  \n",
    "$dens = 0.4/(10*6+18*1+8*8+7+15)= 0.00244$"
   ]
  },
  {
   "cell_type": "markdown",
   "metadata": {},
   "source": [
    "### sigmar\n",
    "The root mean square roughness of the top interface of the layer in Å."
   ]
  },
  {
   "cell_type": "markdown",
   "metadata": {},
   "source": [
    "### sigmai\n",
    "The root mean square interdiffusion of the top interface of the layer in Å."
   ]
  },
  {
   "cell_type": "markdown",
   "metadata": {},
   "source": [
    "### d\n",
    "The thickness of the layer in Å."
   ]
  },
  {
   "cell_type": "markdown",
   "metadata": {},
   "source": [
    "### f\n",
    "The x-ray scattering length per formula unit in electrons. GenX takes directly the scattering length of an element from CXRO when writing in f: fp.Si (Silicon for example). Linear combination of fp are possible, for example $\\textrm{fp.Si + 2*fp.O}$ for SiO2.  \n",
    "When writing the f manually, one has to write it as $\\textrm{f1-f2*j}$ with f1 and f2 positive."
   ]
  },
  {
   "cell_type": "markdown",
   "metadata": {},
   "source": [
    "## 2. Define the instrument and the geometry"
   ]
  },
  {
   "cell_type": "markdown",
   "metadata": {},
   "source": [
    "### wavelength\n",
    "The wavelength in Å. You can use $\\lambda=hc/E$ to convert energy to wavelength.  \n",
    "With $E$ in eV and $\\lambda$ in Å, $\\lambda=12398/E$"
   ]
  },
  {
   "cell_type": "code",
   "execution_count": 4,
   "metadata": {},
   "outputs": [
    {
     "name": "stdout",
     "output_type": "stream",
     "text": [
      "lambda in Å: 1.5498024673276163\n"
     ]
    }
   ],
   "source": [
    "E = 8000 #in eV\n",
    "h = 4.135667662E-15 # in eV.s\n",
    "c = 299792458E10  # in Å/s\n",
    "wavelength = h*c/E\n",
    "print('lambda in Å:', wavelength)\n"
   ]
  },
  {
   "cell_type": "markdown",
   "metadata": {},
   "source": [
    "### coords\n",
    "The x-axis: $q$ in $1/Å$ or tth in degres (actually $2\\theta$). In XRR one can go from one to the other with the formula:  \n",
    "$$q = \\frac{4\\pi}{\\lambda}\\sin{\\theta}.$$"
   ]
  },
  {
   "cell_type": "markdown",
   "metadata": {},
   "source": [
    "### I0\n",
    "The incident intensity (a scaling factor). Should be 1 if the normalization by the direct beam is good."
   ]
  },
  {
   "cell_type": "markdown",
   "metadata": {},
   "source": [
    "### Ibkg\n",
    "The background intensity. Add a constant value to the calculated reflectivity. It can be estimated by an off-specular measurement."
   ]
  },
  {
   "cell_type": "markdown",
   "metadata": {},
   "source": [
    "### res \n",
    "The resolution of the instrument given in the same coordinates as the parameter coords. This assumes a gaussian relation function and res is the standard deviation of that gaussian. The resolution can be measured on a direct scan $I$ vs $2\\theta$, or on a scan $I$ vs $\\theta$ in reflection on a reflectivity plateau for ex. (but then the standard deviation measured should be multiplied by two)."
   ]
  },
  {
   "cell_type": "code",
   "execution_count": 5,
   "metadata": {},
   "outputs": [
    {
     "name": "stdout",
     "output_type": "stream",
     "text": [
      "['0:gamma', '1:delta', '2:ys', '3:ds1hg', '4:os2hg', '5:zs', '6:alphax', '7:gamma', '8:hu36energy', '9:xs', '10:thetah', '11:ds2hg', '12:ss1hg', '13:current', '14:mon2', '15:dioderefl', '16:mon4', '17:gainfemtodioderefl', '18:integration_time', '19:sensors_rel_timestamps', '20:sensorsTimestamps', '21:i15-c-cx1/ex/v2_grp_gamma.rot/rot']\n",
      "fit results [ 1.58224902e+00  1.76335721e-04  1.17415941e-02 -2.28223011e-03]\n",
      "res =  0.01\n"
     ]
    },
    {
     "data": {
      "image/png": "[encoded data removed]",
      "text/plain": [
       "<Figure size 720x720 with 1 Axes>"
      ]
     },
     "metadata": {
      "needs_background": "light"
     },
     "output_type": "display_data"
    }
   ],
   "source": [
    "#Example with a direct scan\n",
    "\n",
    "pathToFile = 'Example_Data/SIRIUS_2017_12_06_07308.dat'\n",
    "\n",
    "#Get the list of column number + header name\n",
    "header = genfromtxt(pathToFile, dtype = str)[0,:]\n",
    "name_list = [str(i)+':'+header[i] for i in range(len(header))]\n",
    "print(name_list)\n",
    "\n",
    "def gaussian(x, amplitude, mean, stddev, bckg):\n",
    "    return amplitude * np.exp(-(x - mean)**2 /(2*stddev**2)) + bckg\n",
    "\n",
    "dat = genfromtxt(pathToFile,skip_header=1,usecols=(0,15))\n",
    "x = dat[:,0]\n",
    "y = dat[:,1]\n",
    "\n",
    "p0 = (np.max(y), x[np.argmax(y)], 0.002, 0.) #Initial guess\n",
    "popt, _ = optimize.curve_fit(gaussian, x, y, p0)\n",
    "print('fit results', popt)\n",
    "\n",
    "popt = popt\n",
    "\n",
    "#To test other set of params\n",
    "popt = [1.58224902e+00, 1.76335721e-04, 0.01, -2.28223011e-03]\n",
    "\n",
    "print('res = ', popt[2])\n",
    "\n",
    "plt.rcParams['figure.figsize'] = (10,10)\n",
    "plt.rcParams.update({'font.size': 20})\n",
    "plt.xlabel(r'$2\\theta$ [deg.]')\n",
    "plt.ylabel(r'I')\n",
    "plt.plot(x, y, '.', label = 'Direct scan')\n",
    "plt.plot(x, gaussian(x, *popt))\n",
    "plt.legend()\n",
    "plt.show()\n",
    "\n"
   ]
  },
  {
   "cell_type": "markdown",
   "metadata": {},
   "source": [
    "#### restype \n",
    "Describes the type of resolution calculated. Alternatives: 'no conv', 'fast conv', 'full conv and varying res.' or 'fast conv + varying res.'. Note that fast convolution only allows a single value into res, whereas the others can also take an array with the same length as the x-data (varying resolution). "
   ]
  },
  {
   "cell_type": "markdown",
   "metadata": {},
   "source": [
    "#### respoints \n",
    "The number of points to include in the resolution calculation. This is only used for 'full conv and vaying res.' and 'fast conv + varying res'."
   ]
  },
  {
   "cell_type": "markdown",
   "metadata": {},
   "source": [
    "#### resintrange \n",
    "Number of standard deviations to integrate the resolution function."
   ]
  },
  {
   "cell_type": "markdown",
   "metadata": {},
   "source": [
    "#### footype \n",
    "Which type of footprint correction is to be applied to the simulation. One of: 'no corr', 'gauss beam' or 'square beam'."
   ]
  },
  {
   "cell_type": "markdown",
   "metadata": {},
   "source": [
    "#### beamw \n",
    "The width (vertical gap) of the beam given in mm. For 'gauss beam' it should be the standard deviation. For 'square beam' it is the full width of the beam. Can be measured on a height scan during the alignment."
   ]
  },
  {
   "cell_type": "code",
   "execution_count": 7,
   "metadata": {},
   "outputs": [
    {
     "name": "stdout",
     "output_type": "stream",
     "text": [
      "['0:zs', '1:delta', '2:ys', '3:ds1hg', '4:os2hg', '5:zs', '6:alphax', '7:gamma', '8:hu36energy', '9:xs', '10:thetah', '11:ds2hg', '12:ss1hg', '13:current', '14:mon2', '15:dioderefl', '16:mon4', '17:gainfemtodioderefl', '18:integration_time', '19:sensors_rel_timestamps', '20:sensorsTimestamps', '21:i15-c-cx1/ex/v2_grp_zs.pos/pos']\n",
      "(0.093318206786915, 67.1709374425, 0.15, 0.093318206786915)\n",
      "fit results [ 0.09471659 66.78388415  0.12167327  0.09535   ]\n",
      "beamw =  0.1216732716856213\n"
     ]
    },
    {
     "data": {
      "image/png": "[encoded data removed]",
      "text/plain": [
       "<Figure size 720x720 with 1 Axes>"
      ]
     },
     "metadata": {
      "needs_background": "light"
     },
     "output_type": "display_data"
    }
   ],
   "source": [
    "from scipy.special import erf\n",
    "\n",
    "#Example with a height scan\n",
    "\n",
    "pathToFile = 'Example_Data/SIRIUS_2017_12_06_07352.dat'\n",
    "\n",
    "#Get the list of column number + header name\n",
    "header = genfromtxt(pathToFile, dtype = str)[0,:]\n",
    "name_list = [str(i)+':'+header[i] for i in range(len(header))]\n",
    "print(name_list)\n",
    "\n",
    "def cdf_gaussian(x, amplitude, x0, stddev, bckg):\n",
    "    return amplitude*erf((x-x0)/(np.sqrt(2)*stddev))+bckg\n",
    "\n",
    "dat = genfromtxt(pathToFile,skip_header=1,usecols=(0,15))\n",
    "x = -dat[:,0]\n",
    "y = dat[:,1]\n",
    "\n",
    "hh = (np.max(y)-np.min(y))/2.\n",
    "p0 = (hh, x[np.argmax(y-hh)], 0.15, hh) #Initial guess\n",
    "print(p0)\n",
    "popt, _ = optimize.curve_fit(cdf_gaussian, x, y, p0)\n",
    "print('fit results', popt)\n",
    "\n",
    "popt = popt\n",
    "\n",
    "#To test other set of params\n",
    "#popt = [0.1, 66.8, 0.15, 0.1]\n",
    "\n",
    "print('beamw = ', popt[2])\n",
    "\n",
    "plt.rcParams['figure.figsize'] = (10,10)\n",
    "plt.rcParams.update({'font.size': 20})\n",
    "plt.xlabel(r'$2\\theta$ [deg.]')\n",
    "plt.ylabel(r'I')\n",
    "plt.plot(x, y, '.', label = 'Height scan')\n",
    "plt.plot(x, cdf_gaussian(x, *popt))\n",
    "plt.legend()\n",
    "plt.show()"
   ]
  },
  {
   "cell_type": "markdown",
   "metadata": {},
   "source": [
    "#### samplelen \n",
    "The length of the sample given in mm."
   ]
  },
  {
   "cell_type": "markdown",
   "metadata": {},
   "source": [
    "#### taylor_n \n",
    "The number of terms taken into account in the taylor expansion of the fourier integral of the correlation function. More terms means a more accurate calculation but also a much slower one. "
   ]
  },
  {
   "cell_type": "code",
   "execution_count": null,
   "metadata": {},
   "outputs": [],
   "source": []
  }
 ],
 "metadata": {
  "kernelspec": {
   "display_name": "Python 3",
   "language": "python",
   "name": "python3"
  },
  "language_info": {
   "codemirror_mode": {
    "name": "ipython",
    "version": 3
   },
   "file_extension": ".py",
   "mimetype": "text/x-python",
   "name": "python",
   "nbconvert_exporter": "python",
   "pygments_lexer": "ipython3",
   "version": "3.8.8"
  }
 },
 "nbformat": 4,
 "nbformat_minor": 2
}
